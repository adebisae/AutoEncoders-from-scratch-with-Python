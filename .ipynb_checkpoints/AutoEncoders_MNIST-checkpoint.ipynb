{
 "cells": [
  {
   "cell_type": "code",
   "execution_count": null,
   "metadata": {
    "collapsed": true
   },
   "outputs": [],
   "source": [
    "import random\n",
    "import numpy as np\n",
    "import pandas as pd\n",
    "import csv\n",
    "import matplotlib.pyplot as plt\n",
    "from math import exp\n",
    "%matplotlib inline"
   ]
  },
  {
   "cell_type": "code",
   "execution_count": null,
   "metadata": {
    "collapsed": true
   },
   "outputs": [],
   "source": [
    "num_of_layers = int(input('Enter the number of layers: '))"
   ]
  },
  {
   "cell_type": "code",
   "execution_count": null,
   "metadata": {
    "collapsed": true
   },
   "outputs": [],
   "source": [
    "num_of_neurons = int(input('Enter the number of neurons: '))"
   ]
  },
  {
   "cell_type": "code",
   "execution_count": null,
   "metadata": {
    "collapsed": true
   },
   "outputs": [],
   "source": []
  },
  {
   "cell_type": "code",
   "execution_count": null,
   "metadata": {
    "collapsed": true
   },
   "outputs": [],
   "source": [
    "def initialize_network(n, l, h, o):\n",
    "    def r():\n",
    "        return random.uniform(-0.50, 0.50)\n",
    "    \n",
    "    neural_network = []\n",
    "    for i in range(l):\n",
    "        if i == 0:\n",
    "            neural_network.append([{'w':[r() for i in range(n+1)]} for j in range(h)])\n",
    "        else:\n",
    "            neural_network.append([{'w':[r() for i in range(h+1)]} for j in range(h)])\n",
    "    \n",
    "    neural_network.append([{'w':[r() for i in range(h+1)]} for j in range(o)])\n",
    "    return neural_network"
   ]
  },
  {
   "cell_type": "code",
   "execution_count": null,
   "metadata": {
    "collapsed": true
   },
   "outputs": [],
   "source": [
    "def summing_function(weights, inputs):\n",
    "    bias = weights[-1]\n",
    "    summ = 0.00\n",
    "    for i in range(len(weights)-1):\n",
    "        summ += (weights[i] * float(inputs[i]))\n",
    "    return summ + bias"
   ]
  },
  {
   "cell_type": "code",
   "execution_count": null,
   "metadata": {
    "collapsed": true
   },
   "outputs": [],
   "source": [
    "def activation_function(z):\n",
    "    return 1 / (1 + exp(-z))"
   ]
  },
  {
   "cell_type": "code",
   "execution_count": null,
   "metadata": {
    "collapsed": true
   },
   "outputs": [],
   "source": [
    "def activation_derivative(z):\n",
    "    return z * (1 - z)"
   ]
  },
  {
   "cell_type": "code",
   "execution_count": null,
   "metadata": {
    "collapsed": true
   },
   "outputs": [],
   "source": [
    "def feed_forward(network, example):\n",
    "    layer_input, layer_output = example, []\n",
    "    for layer in network:\n",
    "        for neuron in layer:\n",
    "            summ = summing_function(neuron['w'], layer_input)\n",
    "            neuron['o'] = activation_function(summ)\n",
    "            layer_output.append(neuron['o'])\n",
    "        layer_input, layer_output = layer_output, []\n",
    "    return layer_input"
   ]
  },
  {
   "cell_type": "code",
   "execution_count": null,
   "metadata": {
    "collapsed": true
   },
   "outputs": [],
   "source": [
    "def backpropagate(network, example):\n",
    "    for i in range(len(network)-1, -1, -1):\n",
    "        for j in range(len(network[i])):\n",
    "            err = 0.00\n",
    "            if i == len(network)-1:\n",
    "                err = example[j] - network[i][j]['o']\n",
    "            else:\n",
    "                summ = 0.00\n",
    "                for neuron in network[i+1]:\n",
    "                    summ += neuron['w'][j] * neuron['d']\n",
    "                err = summ\n",
    "            network[i][j]['d'] = activation_derivative(network[i][j]['o']) * err"
   ]
  },
  {
   "cell_type": "code",
   "execution_count": null,
   "metadata": {
    "collapsed": true
   },
   "outputs": [],
   "source": [
    "def update_weights(network, example, delta):\n",
    "    for i in range(len(network)):\n",
    "        if i != 0:\n",
    "            t = [neuron['o'] for neuron in network[i-1]]\n",
    "        else:\n",
    "            t = example\n",
    "        for neuron, d in zip(network[i], range(0, len(network[i]))):\n",
    "            for f in range(len(t)):\n",
    "                neuron['w'][f] += LEARNING_RATE * float(t[f]) * neuron['d']\n",
    "                if delta is not None:\n",
    "                    neuron['w'][f] += MOMENTUM_RATE * delta[d]\n",
    "                neuron['w'][-1] += LEARNING_RATE * neuron['d']"
   ]
  },
  {
   "cell_type": "code",
   "execution_count": null,
   "metadata": {
    "collapsed": true
   },
   "outputs": [],
   "source": [
    "def sse(actual, target):\n",
    "    summ = 0.00\n",
    "    for i in range(len(actual)):\n",
    "        summ += (actual[i] - target[i])**2\n",
    "    return summ/2"
   ]
  },
  {
   "cell_type": "code",
   "execution_count": null,
   "metadata": {
    "collapsed": true
   },
   "outputs": [],
   "source": [
    "def stochastic_gradient_descent(network, classes, training_data):\n",
    "    for epoch in range(0, EPOCHS):\n",
    "        first_example = True\n",
    "        total_error = 0.00\n",
    "        for example in training_data:\n",
    "            example = example[:-1]\n",
    "            temporal_delta = [neuron['d'] \\\n",
    "                for layer in network for neuron in layer] \\\n",
    "                if not first_example else None\n",
    "            outputs = example\n",
    "            actual = feed_forward(network, example)\n",
    "            total_error += sse(actual, outputs)\n",
    "            backpropagate(network, outputs)\n",
    "            update_weights(network, example, temporal_delta)\n",
    "            reset_neurons(network)\n",
    "            first_example = False\n",
    "        print('>epoch=%d, error=%.3f' %(epoch, total_error))\n",
    "        MSE.append(total_error/len(training_data))"
   ]
  },
  {
   "cell_type": "code",
   "execution_count": null,
   "metadata": {
    "collapsed": true
   },
   "outputs": [],
   "source": []
  },
  {
   "cell_type": "code",
   "execution_count": null,
   "metadata": {
    "collapsed": true
   },
   "outputs": [],
   "source": [
    "def reset_neurons(network):\n",
    "    for layer in network:\n",
    "        for neuron in layer:\n",
    "            neuron['o'] = 0"
   ]
  },
  {
   "cell_type": "code",
   "execution_count": null,
   "metadata": {
    "collapsed": true
   },
   "outputs": [],
   "source": []
  },
  {
   "cell_type": "code",
   "execution_count": null,
   "metadata": {
    "collapsed": true
   },
   "outputs": [],
   "source": [
    "def performance_measure(network, data):\n",
    "    correct, total = 0, 0\n",
    "    for example in data:\n",
    "        if check_output(network, example) == float(example[-1]):\n",
    "            correct += 1\n",
    "        total += 1\n",
    "    return 100*(correct / total)\n",
    "\n",
    "def check_output(network, example):\n",
    "    output = feed_forward(network, example)\n",
    "    return output"
   ]
  },
  {
   "cell_type": "code",
   "execution_count": null,
   "metadata": {
    "collapsed": true
   },
   "outputs": [],
   "source": []
  },
  {
   "cell_type": "code",
   "execution_count": null,
   "metadata": {
    "collapsed": true
   },
   "outputs": [],
   "source": [
    "def plot_data():\n",
    "    x = range(0, EPOCHS)\n",
    "    fig, ax2 = plt.subplots()\n",
    "    ax2.set_xlabel('Epoch')\n",
    "    ax2.set_ylabel('MSE', color='blue')\n",
    "    line, = ax2.plot(x, MSE, '-', c='blue', lw='1', label='MSE')\n",
    "    fig.tight_layout()\n",
    "    plt.show()\n",
    "    plt.clf()"
   ]
  },
  {
   "cell_type": "code",
   "execution_count": null,
   "metadata": {
    "collapsed": true
   },
   "outputs": [],
   "source": []
  },
  {
   "cell_type": "code",
   "execution_count": null,
   "metadata": {
    "collapsed": true
   },
   "outputs": [],
   "source": [
    "data = pd.read_csv('MNISTnumImages5000_balanced.txt', sep = '\\t', header=None)\n",
    "data['labels'] = pd.read_csv('MNISTnumLabels5000_balanced.txt', header=None)"
   ]
  },
  {
   "cell_type": "code",
   "execution_count": null,
   "metadata": {
    "collapsed": true
   },
   "outputs": [],
   "source": [
    "from sklearn.model_selection import train_test_split\n",
    "train_data, test_data = train_test_split(data, test_size=0.2, random_state=42)"
   ]
  },
  {
   "cell_type": "code",
   "execution_count": null,
   "metadata": {
    "collapsed": true
   },
   "outputs": [],
   "source": []
  },
  {
   "cell_type": "code",
   "execution_count": null,
   "metadata": {
    "collapsed": true
   },
   "outputs": [],
   "source": [
    "train_data.reset_index(inplace=True, drop=True)\n",
    "train_data = train_data.values.tolist()\n",
    "for i in range(len(train_data)):\n",
    "    train_data[i][-1] = int(train_data[i][-1])\n",
    "\n",
    "test_data.reset_index(inplace=True, drop=True)\n",
    "test_data = test_data.values.tolist()\n",
    "for i in range(len(test_data)):\n",
    "    test_data[i][-1] = int(test_data[i][-1])"
   ]
  },
  {
   "cell_type": "code",
   "execution_count": null,
   "metadata": {
    "collapsed": true
   },
   "outputs": [],
   "source": [
    "TRAIN = train_data\n",
    "FEATURES = len(TRAIN[0][:-1])\n",
    "CLASSES = FEATURES\n",
    "NETWORK = initialize_network(FEATURES, num_of_layers, num_of_neurons, CLASSES)\n",
    "LEARNING_RATE, MOMENTUM_RATE = 0.01, 0.04\n",
    "\n",
    "EPOCHS = 100\n",
    "MSE, TRP, TEP = [], [], []\n",
    "stochastic_gradient_descent(NETWORK, CLASSES, TRAIN)"
   ]
  },
  {
   "cell_type": "code",
   "execution_count": null,
   "metadata": {
    "collapsed": true
   },
   "outputs": [],
   "source": []
  },
  {
   "cell_type": "markdown",
   "metadata": {},
   "source": [
    "### RESULTS ###"
   ]
  },
  {
   "cell_type": "code",
   "execution_count": null,
   "metadata": {
    "collapsed": true
   },
   "outputs": [],
   "source": [
    "# Repeat this for the train set\n",
    "error = []\n",
    "for row in train_data:\n",
    "    output = check_output(NETWORK, row)\n",
    "    error.append(sse(output, row))\n",
    "error = sum(error)"
   ]
  },
  {
   "cell_type": "code",
   "execution_count": null,
   "metadata": {
    "collapsed": true
   },
   "outputs": [],
   "source": [
    "error/4000"
   ]
  },
  {
   "cell_type": "code",
   "execution_count": null,
   "metadata": {
    "collapsed": true
   },
   "outputs": [],
   "source": [
    "### Repeat this for the test set\n",
    "error_test = []\n",
    "for row in test_data:\n",
    "    output = check_output(NETWORK, row)\n",
    "    error_test.append(sse(output, row))\n",
    "error_test = sum(error_test)"
   ]
  },
  {
   "cell_type": "code",
   "execution_count": null,
   "metadata": {
    "collapsed": true
   },
   "outputs": [],
   "source": [
    "error_test/1000"
   ]
  },
  {
   "cell_type": "code",
   "execution_count": null,
   "metadata": {
    "collapsed": true
   },
   "outputs": [],
   "source": []
  },
  {
   "cell_type": "code",
   "execution_count": null,
   "metadata": {
    "collapsed": true
   },
   "outputs": [],
   "source": [
    "plt.bar(['Training', 'Testing'], [4.1,4.765])\n",
    "plt.ylabel('Total Loss')\n",
    "plt.title('Total Loss by Dataset')"
   ]
  },
  {
   "cell_type": "code",
   "execution_count": null,
   "metadata": {
    "collapsed": true
   },
   "outputs": [],
   "source": []
  },
  {
   "cell_type": "code",
   "execution_count": null,
   "metadata": {
    "collapsed": true
   },
   "outputs": [],
   "source": [
    "### Pass each ones, twos, threes into the same as up and run again\n",
    "train_data = pd.DataFrame(train_data)\n",
    "test_data = pd.DataFrame(test_data)\n",
    "\n",
    "\n",
    "Train_errors, Test_errors = [], []\n",
    "for i in range(10):\n",
    "    data = train_data[train_data[784] == i]\n",
    "    data = data.values.tolist()\n",
    "    \n",
    "    error = []\n",
    "    for row in data:\n",
    "        output = check_output(NETWORK, row[:-1])\n",
    "        error.append(sse(output, row[:-1]))\n",
    "    error = sum(error)\n",
    "    Train_errors.append(error)\n",
    "\n",
    "    \n",
    "    \n",
    "for i in range(10):\n",
    "    data = test_data[test_data[784] == i]\n",
    "    data = data.values.tolist()\n",
    "    \n",
    "    error = []\n",
    "    for row in data:\n",
    "        output = check_output(NETWORK, row[:-1])\n",
    "        error.append(sse(output, row[:-1]))\n",
    "    error = sum(error)\n",
    "    Test_errors.append(error)\n"
   ]
  },
  {
   "cell_type": "code",
   "execution_count": null,
   "metadata": {
    "collapsed": true
   },
   "outputs": [],
   "source": [
    "Train_errors = [i/400 for i in Train_errors]"
   ]
  },
  {
   "cell_type": "code",
   "execution_count": null,
   "metadata": {
    "collapsed": true
   },
   "outputs": [],
   "source": []
  },
  {
   "cell_type": "code",
   "execution_count": null,
   "metadata": {
    "collapsed": true
   },
   "outputs": [],
   "source": [
    "Test_errors = [i/100 for i in Test_errors]"
   ]
  },
  {
   "cell_type": "code",
   "execution_count": null,
   "metadata": {
    "collapsed": true
   },
   "outputs": [],
   "source": []
  },
  {
   "cell_type": "code",
   "execution_count": null,
   "metadata": {
    "collapsed": true,
    "scrolled": true
   },
   "outputs": [],
   "source": [
    "labels = ['0', '1', '2', '3', '4', '5', '6', '7', '8', '9']\n",
    "\n",
    "x = np.arange(len(labels))  # the label locations\n",
    "width = 0.35  # the width of the bars\n",
    "\n",
    "fig, ax = plt.subplots()\n",
    "rects1 = ax.bar(x - width/2, Train_errors, width, label='Train')\n",
    "rects2 = ax.bar(x + width/2, Test_errors, width, label='Test')\n",
    "\n",
    "# Add some text for labels, title and custom x-axis tick labels, etc.\n",
    "ax.set_ylabel('Total Loss')\n",
    "ax.set_title('Total Loss by class')\n",
    "ax.set_xticks(x)\n",
    "ax.set_xticklabels(labels)\n",
    "ax.legend()\n",
    "\n"
   ]
  },
  {
   "cell_type": "code",
   "execution_count": null,
   "metadata": {
    "collapsed": true
   },
   "outputs": [],
   "source": []
  },
  {
   "cell_type": "code",
   "execution_count": null,
   "metadata": {
    "collapsed": true
   },
   "outputs": [],
   "source": [
    "plot_data()"
   ]
  },
  {
   "cell_type": "code",
   "execution_count": null,
   "metadata": {
    "collapsed": true
   },
   "outputs": [],
   "source": []
  },
  {
   "cell_type": "markdown",
   "metadata": {},
   "source": [
    "### FEATURES ###"
   ]
  },
  {
   "cell_type": "code",
   "execution_count": null,
   "metadata": {
    "collapsed": true
   },
   "outputs": [],
   "source": []
  },
  {
   "cell_type": "code",
   "execution_count": null,
   "metadata": {
    "collapsed": true
   },
   "outputs": [],
   "source": []
  },
  {
   "cell_type": "code",
   "execution_count": null,
   "metadata": {
    "collapsed": true
   },
   "outputs": [],
   "source": [
    "neurons_20 = []\n",
    "for k in range(20):\n",
    "    weights = NETWORK[0][k]['w'][:-1]\n",
    "    n_weights = []\n",
    "    for l in range(len(weights)):\n",
    "        n_weights.append((weights[l] - min(weights))/(max(weights) - min(weights)))\n",
    "    neurons_20.append(n_weights)"
   ]
  },
  {
   "cell_type": "code",
   "execution_count": null,
   "metadata": {
    "collapsed": true
   },
   "outputs": [],
   "source": []
  },
  {
   "cell_type": "code",
   "execution_count": null,
   "metadata": {
    "collapsed": true
   },
   "outputs": [],
   "source": [
    "fig, axs = plt.subplots(4, 5,figsize=(10,10))\n",
    "plt.style.use('grayscale')\n",
    "j = 0\n",
    "k = 0\n",
    "for i in range(len(neurons_20)):\n",
    "    im = np.reshape(neurons_20[i],(28,28))\n",
    "    if (i % 5 == 0) and (i != 0):\n",
    "        j = j + 1  \n",
    "    axs[j, k].imshow(im)\n",
    "    axs[j, k].set_title(str(i+1))\n",
    "    k = k + 1\n",
    "    if k == 5:\n",
    "        k = 0    "
   ]
  },
  {
   "cell_type": "code",
   "execution_count": null,
   "metadata": {
    "collapsed": true
   },
   "outputs": [],
   "source": []
  },
  {
   "cell_type": "markdown",
   "metadata": {},
   "source": [
    "### SAMPLE OUTPUTS ###"
   ]
  },
  {
   "cell_type": "code",
   "execution_count": null,
   "metadata": {
    "collapsed": true
   },
   "outputs": [],
   "source": [
    "original_data = test_data.iloc[0:8].values.tolist()\n",
    "output_gotten = []\n",
    "for i in range(len(original_data)):\n",
    "    output_gotten.append(feed_forward(NETWORK, original_data[i][:-1]))"
   ]
  },
  {
   "cell_type": "code",
   "execution_count": null,
   "metadata": {
    "collapsed": true
   },
   "outputs": [],
   "source": []
  },
  {
   "cell_type": "code",
   "execution_count": null,
   "metadata": {
    "collapsed": true
   },
   "outputs": [],
   "source": [
    "fig, axs = plt.subplots(1, 8,figsize=(12,12))\n",
    "plt.style.use('grayscale')\n",
    "for i in range(len(output_gotten)):\n",
    "    im = np.reshape(output_gotten[i],(28,28))\n",
    "    axs[i].imshow(im)\n",
    "#fig.suptitle('')"
   ]
  },
  {
   "cell_type": "code",
   "execution_count": null,
   "metadata": {
    "collapsed": true
   },
   "outputs": [],
   "source": [
    "fig, axs = plt.subplots(1, 8,figsize=(12,12))\n",
    "plt.style.use('grayscale')\n",
    "for i in range(len(original_data)):\n",
    "    im = np.reshape(original_data[i][:-1],(28,28))\n",
    "    axs[i].imshow(im) "
   ]
  },
  {
   "cell_type": "code",
   "execution_count": null,
   "metadata": {
    "collapsed": true
   },
   "outputs": [],
   "source": []
  },
  {
   "cell_type": "code",
   "execution_count": null,
   "metadata": {
    "collapsed": true
   },
   "outputs": [],
   "source": [
    "%store NETWORK"
   ]
  },
  {
   "cell_type": "code",
   "execution_count": null,
   "metadata": {
    "collapsed": true
   },
   "outputs": [],
   "source": [
    "%store train_data"
   ]
  },
  {
   "cell_type": "code",
   "execution_count": null,
   "metadata": {
    "collapsed": true
   },
   "outputs": [],
   "source": [
    "%store test_data"
   ]
  },
  {
   "cell_type": "code",
   "execution_count": null,
   "metadata": {
    "collapsed": true
   },
   "outputs": [],
   "source": []
  }
 ],
 "metadata": {
  "anaconda-cloud": {},
  "kernelspec": {
   "display_name": "Python [default]",
   "language": "python",
   "name": "python3"
  },
  "language_info": {
   "codemirror_mode": {
    "name": "ipython",
    "version": 3
   },
   "file_extension": ".py",
   "mimetype": "text/x-python",
   "name": "python",
   "nbconvert_exporter": "python",
   "pygments_lexer": "ipython3",
   "version": "3.5.6"
  }
 },
 "nbformat": 4,
 "nbformat_minor": 1
}
